{
  "nbformat": 4,
  "nbformat_minor": 0,
  "metadata": {
    "colab": {
      "provenance": [],
      "authorship_tag": "ABX9TyNn+HkmKfqK+Lu7DoCwcdpO",
      "include_colab_link": true
    },
    "kernelspec": {
      "name": "python3",
      "display_name": "Python 3"
    },
    "language_info": {
      "name": "python"
    }
  },
  "cells": [
    {
      "cell_type": "markdown",
      "metadata": {
        "id": "view-in-github",
        "colab_type": "text"
      },
      "source": [
        "<a href=\"https://colab.research.google.com/github/chrisshibu/SE_Exp/blob/main/SE_exp_2.ipynb\" target=\"_parent\"><img src=\"https://colab.research.google.com/assets/colab-badge.svg\" alt=\"Open In Colab\"/></a>"
      ]
    },
    {
      "cell_type": "markdown",
      "source": [
        "1.\tImplement weather modeling* using the quadratic solution in stages: hard-coding variables keyboard input, read from a file, for a single set of input, multiple sets of inputs.\n",
        "\n",
        "a. save all versions, debug, fix problems, create a Github account\n",
        "\n",
        "Implementation outline for weather modeling using a quadratic solution. The approach evolves in stages:\n",
        "1.\tHardcoding variables.\n",
        "2.\tAccepting variables via keyboard input.\n",
        "3.\tReading variables from a file.\n",
        "4.\tProcessing a single set of inputs.\n",
        "5.\tProcessing multiple sets of inputs.\n",
        "At the end, you will save the versions, debug, fix issues, and push the project to GitHub.\n",
        "\n",
        "1.\tHardcoding variables.\n"
      ],
      "metadata": {
        "id": "K_nNiNUSMDF-"
      }
    },
    {
      "cell_type": "markdown",
      "source": [
        "1.\tHardcoding variables."
      ],
      "metadata": {
        "id": "Vu8lkmpQMKp9"
      }
    },
    {
      "cell_type": "code",
      "source": [
        "def Temperature_modeling(a,b,c,time):\n",
        "  temperature = a*time**2 + b*time + c\n",
        "  return temperature"
      ],
      "metadata": {
        "id": "tEzVKRb5MItO"
      },
      "execution_count": 4,
      "outputs": []
    },
    {
      "cell_type": "code",
      "source": [
        "# Hardcoded variables\n",
        "a,b,c=0.1,2,10\n",
        "time=5"
      ],
      "metadata": {
        "id": "kXeHTxpKNupW"
      },
      "execution_count": 5,
      "outputs": []
    },
    {
      "cell_type": "code",
      "source": [
        "#display results\n",
        "print(\"Hard-coded variables for weather modeling\")\n",
        "print(\"Temperature for hardcoded coefficients at time\",time,\"hours:\",Temperature_modeling(a,b,c,time))"
      ],
      "metadata": {
        "colab": {
          "base_uri": "https://localhost:8080/"
        },
        "id": "90T7sVrbOEPF",
        "outputId": "32c002b7-6c06-4778-e72b-ca07624c8109"
      },
      "execution_count": 7,
      "outputs": [
        {
          "output_type": "stream",
          "name": "stdout",
          "text": [
            "Hard-coded variables for weather modeling\n",
            "Temperature for hardcoded coefficients at time 5 hours: 22.5\n"
          ]
        }
      ]
    },
    {
      "cell_type": "markdown",
      "source": [
        "2.\tAccepting variables via keyboard input"
      ],
      "metadata": {
        "id": "zFTMnjkIO-ku"
      }
    },
    {
      "cell_type": "code",
      "source": [
        "a=float(input(\"Enter the coefficient a: \"))\n",
        "b=float(input(\"Enter the coefficient b: \"))\n",
        "c=float(input(\"Enter the coefficient c: \"))\n"
      ],
      "metadata": {
        "colab": {
          "base_uri": "https://localhost:8080/"
        },
        "id": "AoGCYMOfPEZe",
        "outputId": "b348f859-803d-47e3-848d-1ebf9b32427c"
      },
      "execution_count": 8,
      "outputs": [
        {
          "name": "stdout",
          "output_type": "stream",
          "text": [
            "Enter the coefficient a: 0.1\n",
            "Enter the coefficient b: 3\n",
            "Enter the coefficient c: 10\n"
          ]
        }
      ]
    },
    {
      "cell_type": "code",
      "source": [
        "time=float(input(\"Enter the time: \"))"
      ],
      "metadata": {
        "colab": {
          "base_uri": "https://localhost:8080/"
        },
        "id": "x7hW7WanPNtG",
        "outputId": "4c317ad6-ce25-4026-da42-141958b4392c"
      },
      "execution_count": 9,
      "outputs": [
        {
          "name": "stdout",
          "output_type": "stream",
          "text": [
            "Enter the time: 4\n"
          ]
        }
      ]
    },
    {
      "cell_type": "code",
      "source": [
        "#variables read from keyboard\n",
        "print(\"Hard-coded variables for weather modeling\")\n",
        "print(\"Temperature for hardcoded coefficients at time\",time,\"hours:\",Temperature_modeling(a,b,c,time))"
      ],
      "metadata": {
        "colab": {
          "base_uri": "https://localhost:8080/"
        },
        "id": "nXUl8UH3P0m-",
        "outputId": "e22eb292-15bf-4a98-ee9f-ec7f9b729c90"
      },
      "execution_count": 10,
      "outputs": [
        {
          "output_type": "stream",
          "name": "stdout",
          "text": [
            "Hard-coded variables for weather modeling\n",
            "Temperature for hardcoded coefficients at time 4.0 hours: 23.6\n"
          ]
        }
      ]
    },
    {
      "cell_type": "markdown",
      "source": [
        "3.\tReading Variables from a File"
      ],
      "metadata": {
        "id": "auA4a8CTQJEW"
      }
    },
    {
      "cell_type": "code",
      "source": [
        "# Read coefficients from a file\n",
        "def read_from_file(filename):\n",
        "  with open(filename, 'r') as file:\n",
        "    lines = file.readlines()\n",
        "  coefficients=[tuple(map(float, line.strip().split(','))) for line in lines]\n",
        "  return coefficients"
      ],
      "metadata": {
        "id": "D48NtPnDQLNH"
      },
      "execution_count": 12,
      "outputs": []
    },
    {
      "cell_type": "markdown",
      "source": [
        "4.\tProcessing a single set of inputs.\n"
      ],
      "metadata": {
        "id": "nUYPj5xETCyc"
      }
    },
    {
      "cell_type": "code",
      "source": [
        "# Example: Solve for a single set of inputs\n",
        "coefficients = read_from_file('/content/input1.txt')\n",
        "a,b,c,time=coefficients[0]\n",
        "temparature=Temperature_modeling(a,b,c,time)\n",
        "print(\"read from a file for weather modeling\")\n",
        "print(\"temperature from keyboard coefficients at time\",time,\"hours:\",Temperature_modeling(a,b,c,time))"
      ],
      "metadata": {
        "colab": {
          "base_uri": "https://localhost:8080/"
        },
        "id": "KMXWWYQ8TEtT",
        "outputId": "d8d2c437-c175-4c6c-97cb-9dea1f8d7947"
      },
      "execution_count": 14,
      "outputs": [
        {
          "output_type": "stream",
          "name": "stdout",
          "text": [
            "read from a file for weather modeling\n",
            "temperature from keyboard coefficients at time 5.0 hours: 87.5\n"
          ]
        }
      ]
    },
    {
      "cell_type": "markdown",
      "source": [
        "5.\tProcessing multiple sets of inputs"
      ],
      "metadata": {
        "id": "TlhVFwWHUF_k"
      }
    },
    {
      "cell_type": "code",
      "source": [
        "#Solve  for all sets in the file\n",
        "for idx, (a,b,c,time) in enumerate(coefficients):\n",
        "  temperature = Temperature_modeling(a,b,c,time)\n",
        "  print(\"Temperature from keyboard coefficients at time\",time,\"hours:\",Temperature_modeling(a,b,c,time))"
      ],
      "metadata": {
        "colab": {
          "base_uri": "https://localhost:8080/"
        },
        "id": "_OVFSnQIT340",
        "outputId": "4049bd70-64c0-45e3-b941-e791fba8d110"
      },
      "execution_count": 18,
      "outputs": [
        {
          "output_type": "stream",
          "name": "stdout",
          "text": [
            "Temperature from keyboard coefficients at time 5.0 hours: 87.5\n",
            "Temperature from keyboard coefficients at time 3.0 hours: 64.61\n",
            "Temperature from keyboard coefficients at time 6.0 hours: 109.16\n"
          ]
        }
      ]
    }
  ]
}